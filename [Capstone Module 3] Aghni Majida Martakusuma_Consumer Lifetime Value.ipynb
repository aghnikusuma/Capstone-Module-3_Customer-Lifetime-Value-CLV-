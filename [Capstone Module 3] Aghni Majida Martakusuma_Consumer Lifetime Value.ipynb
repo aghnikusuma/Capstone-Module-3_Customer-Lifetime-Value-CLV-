{
 "cells": [
  {
   "cell_type": "markdown",
   "id": "f3ab3fa9",
   "metadata": {},
   "source": [
    "<h2> Capstone Project Module 3 - Customer Lifetime Value (CLV) </h2> "
   ]
  },
  {
   "cell_type": "markdown",
   "id": "f3fc1f9c",
   "metadata": {},
   "source": [
    "**Project Overview**:\n",
    "\n",
    "**Customer Lifetime Value (CLV)** merupakan salah satu indikator penting dalam strategi pemasaran. CLV dapat digunakan untuk mengidentifikasi pelanggan bernilai tinggi dan membantu perusahaan mengambil keputusan bisnis berbasis data. Dalam proyek ini, digunakan data pelanggan dari perusahaan asuransi untuk membangun model prediksi CLV berdasarkan variabel demografis dan histori klaim pelanggan.\n",
    "\n",
    "**Tujuan**:\n",
    "Memprediksi Customer Lifetime Value (CLV) dari data pelanggan asuransi, sekaligus mengidentifikasi faktor-faktor yang paling berpengaruh. Output proyek mencakup model prediktif serta insight bisnis yang dapat diimplementasikan.\n",
    "\n",
    "**Brief Summary**:\n",
    "- Dataset terdiri dari 5.669 baris.\n",
    "- Projek ini bertujuan untuk menganalisis faktor-faktor yang memengaruhi Customer Lifetime Value (CLV).\n",
    "- Model Terpilih: Gradient Boosting Regressor pada target log(CLV) (dibandingkan dengan Random Forest dan Linear Regression).\n",
    "- Evaluasi: MAE, RMSE, R², cross-validation stability pada skala log dan asli.\n",
    "- Interpretasi fitur: Menggunakan Random Forest (hasil tuning) untuk memperoleh insight yang lebih transparan terhadap kontribusi fitur."
   ]
  },
  {
   "cell_type": "markdown",
   "id": "d350e5b6",
   "metadata": {},
   "source": [
    "**Data Berdasarkan Dimensi dan Kategori**\n",
    "\n",
    "| Dimensi     | Kategori                                                                 |\n",
    "|-------------|--------------------------------------------------------------------------|\n",
    "| Pelanggan   | Employment Status, Marital Status, Education, Income                      |\n",
    "| Produk      | Vehicle Class, Coverage, Renew Offer Type, Number of Policies            |\n",
    "| Keuangan    | Monthly Premium Auto, Total Claim Amount, Customer Lifetime Value        |"
   ]
  },
  {
   "cell_type": "code",
   "execution_count": 101,
   "id": "fe816dfa",
   "metadata": {},
   "outputs": [],
   "source": [
    "import pandas as pd\n",
    "import numpy as np\n",
    "import matplotlib.pyplot as plt\n",
    "import seaborn as sns\n",
    "from sklearn.model_selection import train_test_split, cross_val_score, GridSearchCV\n",
    "from sklearn.preprocessing import OneHotEncoder, StandardScaler, FunctionTransformer\n",
    "from sklearn.compose import ColumnTransformer\n",
    "from sklearn.pipeline import Pipeline\n",
    "from sklearn.linear_model import LinearRegression, Ridge\n",
    "from sklearn.ensemble import RandomForestRegressor, GradientBoostingRegressor, StackingRegressor\n",
    "from sklearn.metrics import mean_absolute_error, mean_squared_error, r2_score, root_mean_squared_error\n",
    "from sklearn.impute import SimpleImputer\n",
    "from sklearn.feature_selection import SelectFromModel\n",
    "from xgboost import XGBRegressor\n",
    "from sklearn.inspection import PartialDependenceDisplay\n",
    "import pickle"
   ]
  },
  {
   "cell_type": "markdown",
   "id": "eabbdf46",
   "metadata": {},
   "source": [
    "<h2> 2. Data Loading and Preview </h2>"
   ]
  },
  {
   "cell_type": "code",
   "execution_count": 102,
   "id": "87b1a017",
   "metadata": {},
   "outputs": [],
   "source": [
    "# baca data dari file CSV ke dalam DataFrame pandas\n",
    "df = pd.read_csv(\"data_customer_lifetime_value.csv\")"
   ]
  },
  {
   "cell_type": "code",
   "execution_count": 103,
   "id": "fd1456b6",
   "metadata": {},
   "outputs": [
    {
     "data": {
      "application/vnd.microsoft.datawrangler.viewer.v0+json": {
       "columns": [
        {
         "name": "index",
         "rawType": "int64",
         "type": "integer"
        },
        {
         "name": "Vehicle Class",
         "rawType": "object",
         "type": "string"
        },
        {
         "name": "Coverage",
         "rawType": "object",
         "type": "string"
        },
        {
         "name": "Renew Offer Type",
         "rawType": "object",
         "type": "string"
        },
        {
         "name": "EmploymentStatus",
         "rawType": "object",
         "type": "string"
        },
        {
         "name": "Marital Status",
         "rawType": "object",
         "type": "string"
        },
        {
         "name": "Education",
         "rawType": "object",
         "type": "string"
        },
        {
         "name": "Number of Policies",
         "rawType": "float64",
         "type": "float"
        },
        {
         "name": "Monthly Premium Auto",
         "rawType": "float64",
         "type": "float"
        },
        {
         "name": "Total Claim Amount",
         "rawType": "float64",
         "type": "float"
        },
        {
         "name": "Income",
         "rawType": "float64",
         "type": "float"
        },
        {
         "name": "Customer Lifetime Value",
         "rawType": "float64",
         "type": "float"
        }
       ],
       "ref": "4dcd5c53-015e-4aa1-8b2d-6d9cc865968a",
       "rows": [
        [
         "0",
         "Four-Door Car",
         "Extended",
         "Offer1",
         "Retired",
         "Divorced",
         "High School or Below",
         "2.0",
         "90.0",
         "571.479602",
         "11828.0",
         "10083.48688"
        ],
        [
         "1",
         "Four-Door Car",
         "Basic",
         "Offer1",
         "Employed",
         "Married",
         "College",
         "6.0",
         "62.0",
         "114.51444",
         "44762.0",
         "4943.386117"
        ],
        [
         "2",
         "Two-Door Car",
         "Basic",
         "Offer1",
         "Retired",
         "Married",
         "Master",
         "2.0",
         "62.0",
         "257.248789",
         "21514.0",
         "11981.98481"
        ],
        [
         "3",
         "Four-Door Car",
         "Premium",
         "Offer3",
         "Disabled",
         "Married",
         "High School or Below",
         "1.0",
         "116.0",
         "556.8",
         "17913.0",
         "4550.856045"
        ],
        [
         "4",
         "Two-Door Car",
         "Basic",
         "Offer3",
         "Medical Leave",
         "Married",
         "High School or Below",
         "1.0",
         "62.0",
         "355.820799",
         "19030.0",
         "2372.155492"
        ]
       ],
       "shape": {
        "columns": 11,
        "rows": 5
       }
      },
      "text/html": [
       "<div>\n",
       "<style scoped>\n",
       "    .dataframe tbody tr th:only-of-type {\n",
       "        vertical-align: middle;\n",
       "    }\n",
       "\n",
       "    .dataframe tbody tr th {\n",
       "        vertical-align: top;\n",
       "    }\n",
       "\n",
       "    .dataframe thead th {\n",
       "        text-align: right;\n",
       "    }\n",
       "</style>\n",
       "<table border=\"1\" class=\"dataframe\">\n",
       "  <thead>\n",
       "    <tr style=\"text-align: right;\">\n",
       "      <th></th>\n",
       "      <th>Vehicle Class</th>\n",
       "      <th>Coverage</th>\n",
       "      <th>Renew Offer Type</th>\n",
       "      <th>EmploymentStatus</th>\n",
       "      <th>Marital Status</th>\n",
       "      <th>Education</th>\n",
       "      <th>Number of Policies</th>\n",
       "      <th>Monthly Premium Auto</th>\n",
       "      <th>Total Claim Amount</th>\n",
       "      <th>Income</th>\n",
       "      <th>Customer Lifetime Value</th>\n",
       "    </tr>\n",
       "  </thead>\n",
       "  <tbody>\n",
       "    <tr>\n",
       "      <th>0</th>\n",
       "      <td>Four-Door Car</td>\n",
       "      <td>Extended</td>\n",
       "      <td>Offer1</td>\n",
       "      <td>Retired</td>\n",
       "      <td>Divorced</td>\n",
       "      <td>High School or Below</td>\n",
       "      <td>2.0</td>\n",
       "      <td>90.0</td>\n",
       "      <td>571.479602</td>\n",
       "      <td>11828.0</td>\n",
       "      <td>10083.486880</td>\n",
       "    </tr>\n",
       "    <tr>\n",
       "      <th>1</th>\n",
       "      <td>Four-Door Car</td>\n",
       "      <td>Basic</td>\n",
       "      <td>Offer1</td>\n",
       "      <td>Employed</td>\n",
       "      <td>Married</td>\n",
       "      <td>College</td>\n",
       "      <td>6.0</td>\n",
       "      <td>62.0</td>\n",
       "      <td>114.514440</td>\n",
       "      <td>44762.0</td>\n",
       "      <td>4943.386117</td>\n",
       "    </tr>\n",
       "    <tr>\n",
       "      <th>2</th>\n",
       "      <td>Two-Door Car</td>\n",
       "      <td>Basic</td>\n",
       "      <td>Offer1</td>\n",
       "      <td>Retired</td>\n",
       "      <td>Married</td>\n",
       "      <td>Master</td>\n",
       "      <td>2.0</td>\n",
       "      <td>62.0</td>\n",
       "      <td>257.248789</td>\n",
       "      <td>21514.0</td>\n",
       "      <td>11981.984810</td>\n",
       "    </tr>\n",
       "    <tr>\n",
       "      <th>3</th>\n",
       "      <td>Four-Door Car</td>\n",
       "      <td>Premium</td>\n",
       "      <td>Offer3</td>\n",
       "      <td>Disabled</td>\n",
       "      <td>Married</td>\n",
       "      <td>High School or Below</td>\n",
       "      <td>1.0</td>\n",
       "      <td>116.0</td>\n",
       "      <td>556.800000</td>\n",
       "      <td>17913.0</td>\n",
       "      <td>4550.856045</td>\n",
       "    </tr>\n",
       "    <tr>\n",
       "      <th>4</th>\n",
       "      <td>Two-Door Car</td>\n",
       "      <td>Basic</td>\n",
       "      <td>Offer3</td>\n",
       "      <td>Medical Leave</td>\n",
       "      <td>Married</td>\n",
       "      <td>High School or Below</td>\n",
       "      <td>1.0</td>\n",
       "      <td>62.0</td>\n",
       "      <td>355.820799</td>\n",
       "      <td>19030.0</td>\n",
       "      <td>2372.155492</td>\n",
       "    </tr>\n",
       "  </tbody>\n",
       "</table>\n",
       "</div>"
      ],
      "text/plain": [
       "   Vehicle Class  Coverage Renew Offer Type EmploymentStatus Marital Status  \\\n",
       "0  Four-Door Car  Extended           Offer1          Retired       Divorced   \n",
       "1  Four-Door Car     Basic           Offer1         Employed        Married   \n",
       "2   Two-Door Car     Basic           Offer1          Retired        Married   \n",
       "3  Four-Door Car   Premium           Offer3         Disabled        Married   \n",
       "4   Two-Door Car     Basic           Offer3    Medical Leave        Married   \n",
       "\n",
       "              Education  Number of Policies  Monthly Premium Auto  \\\n",
       "0  High School or Below                 2.0                  90.0   \n",
       "1               College                 6.0                  62.0   \n",
       "2                Master                 2.0                  62.0   \n",
       "3  High School or Below                 1.0                 116.0   \n",
       "4  High School or Below                 1.0                  62.0   \n",
       "\n",
       "   Total Claim Amount   Income  Customer Lifetime Value  \n",
       "0          571.479602  11828.0             10083.486880  \n",
       "1          114.514440  44762.0              4943.386117  \n",
       "2          257.248789  21514.0             11981.984810  \n",
       "3          556.800000  17913.0              4550.856045  \n",
       "4          355.820799  19030.0              2372.155492  "
      ]
     },
     "execution_count": 103,
     "metadata": {},
     "output_type": "execute_result"
    }
   ],
   "source": [
    "# preview data \n",
    "df.head()"
   ]
  },
  {
   "cell_type": "code",
   "execution_count": 104,
   "id": "734e3bbb",
   "metadata": {},
   "outputs": [
    {
     "data": {
      "application/vnd.microsoft.datawrangler.viewer.v0+json": {
       "columns": [
        {
         "name": "index",
         "rawType": "object",
         "type": "string"
        },
        {
         "name": "0",
         "rawType": "object",
         "type": "unknown"
        }
       ],
       "ref": "9e1ff9ba-b861-41fa-88ea-03e45afa580d",
       "rows": [
        [
         "Vehicle Class",
         "object"
        ],
        [
         "Coverage",
         "object"
        ],
        [
         "Renew Offer Type",
         "object"
        ],
        [
         "EmploymentStatus",
         "object"
        ],
        [
         "Marital Status",
         "object"
        ],
        [
         "Education",
         "object"
        ],
        [
         "Number of Policies",
         "float64"
        ],
        [
         "Monthly Premium Auto",
         "float64"
        ],
        [
         "Total Claim Amount",
         "float64"
        ],
        [
         "Income",
         "float64"
        ],
        [
         "Customer Lifetime Value",
         "float64"
        ]
       ],
       "shape": {
        "columns": 1,
        "rows": 11
       }
      },
      "text/plain": [
       "Vehicle Class               object\n",
       "Coverage                    object\n",
       "Renew Offer Type            object\n",
       "EmploymentStatus            object\n",
       "Marital Status              object\n",
       "Education                   object\n",
       "Number of Policies         float64\n",
       "Monthly Premium Auto       float64\n",
       "Total Claim Amount         float64\n",
       "Income                     float64\n",
       "Customer Lifetime Value    float64\n",
       "dtype: object"
      ]
     },
     "execution_count": 104,
     "metadata": {},
     "output_type": "execute_result"
    }
   ],
   "source": [
    "df.dtypes"
   ]
  },
  {
   "cell_type": "markdown",
   "id": "c3d70c5d",
   "metadata": {},
   "source": [
    "<h2> 3. Statistik Deskriptif </h2>"
   ]
  },
  {
   "cell_type": "code",
   "execution_count": 105,
   "id": "44767731",
   "metadata": {},
   "outputs": [
    {
     "data": {
      "application/vnd.microsoft.datawrangler.viewer.v0+json": {
       "columns": [
        {
         "name": "index",
         "rawType": "object",
         "type": "string"
        },
        {
         "name": "Number of Policies",
         "rawType": "float64",
         "type": "float"
        },
        {
         "name": "Monthly Premium Auto",
         "rawType": "float64",
         "type": "float"
        },
        {
         "name": "Total Claim Amount",
         "rawType": "float64",
         "type": "float"
        },
        {
         "name": "Income",
         "rawType": "float64",
         "type": "float"
        },
        {
         "name": "Customer Lifetime Value",
         "rawType": "float64",
         "type": "float"
        }
       ],
       "ref": "6a807ab4-c7a7-4a8f-a961-76c167c18a65",
       "rows": [
        [
         "count",
         "5669.0",
         "5669.0",
         "5669.0",
         "5669.0",
         "5669.0"
        ],
        [
         "mean",
         "2.979361439407303",
         "93.0269888869289",
         "431.4071030483331",
         "37868.188569412596",
         "8029.874591946198"
        ],
        [
         "std",
         "2.393186977892074",
         "34.55179514014497",
         "287.55803791026324",
         "30490.490723147752",
         "6916.708245617989"
        ],
        [
         "min",
         "1.0",
         "61.0",
         "0.42331",
         "0.0",
         "1898.007675"
        ],
        [
         "25%",
         "1.0",
         "68.0",
         "266.932542",
         "0.0",
         "3954.344534"
        ],
        [
         "50%",
         "2.0",
         "82.0",
         "379.2",
         "34322.0",
         "5800.188903"
        ],
        [
         "75%",
         "4.0",
         "109.0",
         "549.986128",
         "62464.0",
         "9031.214859"
        ],
        [
         "max",
         "9.0",
         "297.0",
         "2759.794354",
         "99934.0",
         "83325.38119"
        ]
       ],
       "shape": {
        "columns": 5,
        "rows": 8
       }
      },
      "text/html": [
       "<div>\n",
       "<style scoped>\n",
       "    .dataframe tbody tr th:only-of-type {\n",
       "        vertical-align: middle;\n",
       "    }\n",
       "\n",
       "    .dataframe tbody tr th {\n",
       "        vertical-align: top;\n",
       "    }\n",
       "\n",
       "    .dataframe thead th {\n",
       "        text-align: right;\n",
       "    }\n",
       "</style>\n",
       "<table border=\"1\" class=\"dataframe\">\n",
       "  <thead>\n",
       "    <tr style=\"text-align: right;\">\n",
       "      <th></th>\n",
       "      <th>Number of Policies</th>\n",
       "      <th>Monthly Premium Auto</th>\n",
       "      <th>Total Claim Amount</th>\n",
       "      <th>Income</th>\n",
       "      <th>Customer Lifetime Value</th>\n",
       "    </tr>\n",
       "  </thead>\n",
       "  <tbody>\n",
       "    <tr>\n",
       "      <th>count</th>\n",
       "      <td>5669.000000</td>\n",
       "      <td>5669.000000</td>\n",
       "      <td>5669.000000</td>\n",
       "      <td>5669.000000</td>\n",
       "      <td>5669.000000</td>\n",
       "    </tr>\n",
       "    <tr>\n",
       "      <th>mean</th>\n",
       "      <td>2.979361</td>\n",
       "      <td>93.026989</td>\n",
       "      <td>431.407103</td>\n",
       "      <td>37868.188569</td>\n",
       "      <td>8029.874592</td>\n",
       "    </tr>\n",
       "    <tr>\n",
       "      <th>std</th>\n",
       "      <td>2.393187</td>\n",
       "      <td>34.551795</td>\n",
       "      <td>287.558038</td>\n",
       "      <td>30490.490723</td>\n",
       "      <td>6916.708246</td>\n",
       "    </tr>\n",
       "    <tr>\n",
       "      <th>min</th>\n",
       "      <td>1.000000</td>\n",
       "      <td>61.000000</td>\n",
       "      <td>0.423310</td>\n",
       "      <td>0.000000</td>\n",
       "      <td>1898.007675</td>\n",
       "    </tr>\n",
       "    <tr>\n",
       "      <th>25%</th>\n",
       "      <td>1.000000</td>\n",
       "      <td>68.000000</td>\n",
       "      <td>266.932542</td>\n",
       "      <td>0.000000</td>\n",
       "      <td>3954.344534</td>\n",
       "    </tr>\n",
       "    <tr>\n",
       "      <th>50%</th>\n",
       "      <td>2.000000</td>\n",
       "      <td>82.000000</td>\n",
       "      <td>379.200000</td>\n",
       "      <td>34322.000000</td>\n",
       "      <td>5800.188903</td>\n",
       "    </tr>\n",
       "    <tr>\n",
       "      <th>75%</th>\n",
       "      <td>4.000000</td>\n",
       "      <td>109.000000</td>\n",
       "      <td>549.986128</td>\n",
       "      <td>62464.000000</td>\n",
       "      <td>9031.214859</td>\n",
       "    </tr>\n",
       "    <tr>\n",
       "      <th>max</th>\n",
       "      <td>9.000000</td>\n",
       "      <td>297.000000</td>\n",
       "      <td>2759.794354</td>\n",
       "      <td>99934.000000</td>\n",
       "      <td>83325.381190</td>\n",
       "    </tr>\n",
       "  </tbody>\n",
       "</table>\n",
       "</div>"
      ],
      "text/plain": [
       "       Number of Policies  Monthly Premium Auto  Total Claim Amount  \\\n",
       "count         5669.000000           5669.000000         5669.000000   \n",
       "mean             2.979361             93.026989          431.407103   \n",
       "std              2.393187             34.551795          287.558038   \n",
       "min              1.000000             61.000000            0.423310   \n",
       "25%              1.000000             68.000000          266.932542   \n",
       "50%              2.000000             82.000000          379.200000   \n",
       "75%              4.000000            109.000000          549.986128   \n",
       "max              9.000000            297.000000         2759.794354   \n",
       "\n",
       "             Income  Customer Lifetime Value  \n",
       "count   5669.000000              5669.000000  \n",
       "mean   37868.188569              8029.874592  \n",
       "std    30490.490723              6916.708246  \n",
       "min        0.000000              1898.007675  \n",
       "25%        0.000000              3954.344534  \n",
       "50%    34322.000000              5800.188903  \n",
       "75%    62464.000000              9031.214859  \n",
       "max    99934.000000             83325.381190  "
      ]
     },
     "execution_count": 105,
     "metadata": {},
     "output_type": "execute_result"
    }
   ],
   "source": [
    "# Statistik Deskriptif\n",
    "stat_desc = df.describe()\n",
    "stat_desc"
   ]
  },
  {
   "cell_type": "code",
   "execution_count": 106,
   "id": "f533d370",
   "metadata": {},
   "outputs": [
    {
     "name": "stdout",
     "output_type": "stream",
     "text": [
      "       Number of Policies  Monthly Premium Auto  Total Claim Amount  \\\n",
      "count         5669.000000           5669.000000         5669.000000   \n",
      "mean             2.979361             93.026989          431.407103   \n",
      "std              2.393187             34.551795          287.558038   \n",
      "min              1.000000             61.000000            0.423310   \n",
      "25%              1.000000             68.000000          266.932542   \n",
      "50%              2.000000             82.000000          379.200000   \n",
      "75%              4.000000            109.000000          549.986128   \n",
      "max              9.000000            297.000000         2759.794354   \n",
      "\n",
      "             Income  Customer Lifetime Value  \n",
      "count   5669.000000              5669.000000  \n",
      "mean   37868.188569              8029.874592  \n",
      "std    30490.490723              6916.708246  \n",
      "min        0.000000              1898.007675  \n",
      "25%        0.000000              3954.344534  \n",
      "50%    34322.000000              5800.188903  \n",
      "75%    62464.000000              9031.214859  \n",
      "max    99934.000000             83325.381190  \n"
     ]
    }
   ],
   "source": [
    "print(stat_desc)"
   ]
  },
  {
   "cell_type": "code",
   "execution_count": 107,
   "id": "7bb5ff24",
   "metadata": {},
   "outputs": [
    {
     "data": {
      "application/vnd.microsoft.datawrangler.viewer.v0+json": {
       "columns": [
        {
         "name": "index",
         "rawType": "object",
         "type": "string"
        },
        {
         "name": "Vehicle Class",
         "rawType": "object",
         "type": "unknown"
        },
        {
         "name": "Coverage",
         "rawType": "object",
         "type": "unknown"
        },
        {
         "name": "Renew Offer Type",
         "rawType": "object",
         "type": "unknown"
        },
        {
         "name": "EmploymentStatus",
         "rawType": "object",
         "type": "unknown"
        },
        {
         "name": "Marital Status",
         "rawType": "object",
         "type": "unknown"
        },
        {
         "name": "Education",
         "rawType": "object",
         "type": "unknown"
        },
        {
         "name": "Number of Policies",
         "rawType": "float64",
         "type": "float"
        },
        {
         "name": "Monthly Premium Auto",
         "rawType": "float64",
         "type": "float"
        },
        {
         "name": "Total Claim Amount",
         "rawType": "float64",
         "type": "float"
        },
        {
         "name": "Income",
         "rawType": "float64",
         "type": "float"
        },
        {
         "name": "Customer Lifetime Value",
         "rawType": "float64",
         "type": "float"
        }
       ],
       "ref": "52de0830-7ac0-4284-94dc-5fb9d0983dc2",
       "rows": [
        [
         "count",
         "5669",
         "5669",
         "5669",
         "5669",
         "5669",
         "5669",
         "5669.0",
         "5669.0",
         "5669.0",
         "5669.0",
         "5669.0"
        ],
        [
         "unique",
         "6",
         "3",
         "4",
         "5",
         "3",
         "5",
         null,
         null,
         null,
         null,
         null
        ],
        [
         "top",
         "Four-Door Car",
         "Basic",
         "Offer1",
         "Employed",
         "Married",
         "Bachelor",
         null,
         null,
         null,
         null,
         null
        ],
        [
         "freq",
         "2858",
         "3477",
         "2292",
         "3541",
         "3305",
         "1703",
         null,
         null,
         null,
         null,
         null
        ],
        [
         "mean",
         null,
         null,
         null,
         null,
         null,
         null,
         "2.979361439407303",
         "93.0269888869289",
         "431.4071030483331",
         "37868.188569412596",
         "8029.874591946198"
        ],
        [
         "std",
         null,
         null,
         null,
         null,
         null,
         null,
         "2.393186977892074",
         "34.55179514014497",
         "287.55803791026324",
         "30490.490723147752",
         "6916.708245617989"
        ],
        [
         "min",
         null,
         null,
         null,
         null,
         null,
         null,
         "1.0",
         "61.0",
         "0.42331",
         "0.0",
         "1898.007675"
        ],
        [
         "25%",
         null,
         null,
         null,
         null,
         null,
         null,
         "1.0",
         "68.0",
         "266.932542",
         "0.0",
         "3954.344534"
        ],
        [
         "50%",
         null,
         null,
         null,
         null,
         null,
         null,
         "2.0",
         "82.0",
         "379.2",
         "34322.0",
         "5800.188903"
        ],
        [
         "75%",
         null,
         null,
         null,
         null,
         null,
         null,
         "4.0",
         "109.0",
         "549.986128",
         "62464.0",
         "9031.214859"
        ],
        [
         "max",
         null,
         null,
         null,
         null,
         null,
         null,
         "9.0",
         "297.0",
         "2759.794354",
         "99934.0",
         "83325.38119"
        ]
       ],
       "shape": {
        "columns": 11,
        "rows": 11
       }
      },
      "text/html": [
       "<div>\n",
       "<style scoped>\n",
       "    .dataframe tbody tr th:only-of-type {\n",
       "        vertical-align: middle;\n",
       "    }\n",
       "\n",
       "    .dataframe tbody tr th {\n",
       "        vertical-align: top;\n",
       "    }\n",
       "\n",
       "    .dataframe thead th {\n",
       "        text-align: right;\n",
       "    }\n",
       "</style>\n",
       "<table border=\"1\" class=\"dataframe\">\n",
       "  <thead>\n",
       "    <tr style=\"text-align: right;\">\n",
       "      <th></th>\n",
       "      <th>Vehicle Class</th>\n",
       "      <th>Coverage</th>\n",
       "      <th>Renew Offer Type</th>\n",
       "      <th>EmploymentStatus</th>\n",
       "      <th>Marital Status</th>\n",
       "      <th>Education</th>\n",
       "      <th>Number of Policies</th>\n",
       "      <th>Monthly Premium Auto</th>\n",
       "      <th>Total Claim Amount</th>\n",
       "      <th>Income</th>\n",
       "      <th>Customer Lifetime Value</th>\n",
       "    </tr>\n",
       "  </thead>\n",
       "  <tbody>\n",
       "    <tr>\n",
       "      <th>count</th>\n",
       "      <td>5669</td>\n",
       "      <td>5669</td>\n",
       "      <td>5669</td>\n",
       "      <td>5669</td>\n",
       "      <td>5669</td>\n",
       "      <td>5669</td>\n",
       "      <td>5669.000000</td>\n",
       "      <td>5669.000000</td>\n",
       "      <td>5669.000000</td>\n",
       "      <td>5669.000000</td>\n",
       "      <td>5669.000000</td>\n",
       "    </tr>\n",
       "    <tr>\n",
       "      <th>unique</th>\n",
       "      <td>6</td>\n",
       "      <td>3</td>\n",
       "      <td>4</td>\n",
       "      <td>5</td>\n",
       "      <td>3</td>\n",
       "      <td>5</td>\n",
       "      <td>NaN</td>\n",
       "      <td>NaN</td>\n",
       "      <td>NaN</td>\n",
       "      <td>NaN</td>\n",
       "      <td>NaN</td>\n",
       "    </tr>\n",
       "    <tr>\n",
       "      <th>top</th>\n",
       "      <td>Four-Door Car</td>\n",
       "      <td>Basic</td>\n",
       "      <td>Offer1</td>\n",
       "      <td>Employed</td>\n",
       "      <td>Married</td>\n",
       "      <td>Bachelor</td>\n",
       "      <td>NaN</td>\n",
       "      <td>NaN</td>\n",
       "      <td>NaN</td>\n",
       "      <td>NaN</td>\n",
       "      <td>NaN</td>\n",
       "    </tr>\n",
       "    <tr>\n",
       "      <th>freq</th>\n",
       "      <td>2858</td>\n",
       "      <td>3477</td>\n",
       "      <td>2292</td>\n",
       "      <td>3541</td>\n",
       "      <td>3305</td>\n",
       "      <td>1703</td>\n",
       "      <td>NaN</td>\n",
       "      <td>NaN</td>\n",
       "      <td>NaN</td>\n",
       "      <td>NaN</td>\n",
       "      <td>NaN</td>\n",
       "    </tr>\n",
       "    <tr>\n",
       "      <th>mean</th>\n",
       "      <td>NaN</td>\n",
       "      <td>NaN</td>\n",
       "      <td>NaN</td>\n",
       "      <td>NaN</td>\n",
       "      <td>NaN</td>\n",
       "      <td>NaN</td>\n",
       "      <td>2.979361</td>\n",
       "      <td>93.026989</td>\n",
       "      <td>431.407103</td>\n",
       "      <td>37868.188569</td>\n",
       "      <td>8029.874592</td>\n",
       "    </tr>\n",
       "    <tr>\n",
       "      <th>std</th>\n",
       "      <td>NaN</td>\n",
       "      <td>NaN</td>\n",
       "      <td>NaN</td>\n",
       "      <td>NaN</td>\n",
       "      <td>NaN</td>\n",
       "      <td>NaN</td>\n",
       "      <td>2.393187</td>\n",
       "      <td>34.551795</td>\n",
       "      <td>287.558038</td>\n",
       "      <td>30490.490723</td>\n",
       "      <td>6916.708246</td>\n",
       "    </tr>\n",
       "    <tr>\n",
       "      <th>min</th>\n",
       "      <td>NaN</td>\n",
       "      <td>NaN</td>\n",
       "      <td>NaN</td>\n",
       "      <td>NaN</td>\n",
       "      <td>NaN</td>\n",
       "      <td>NaN</td>\n",
       "      <td>1.000000</td>\n",
       "      <td>61.000000</td>\n",
       "      <td>0.423310</td>\n",
       "      <td>0.000000</td>\n",
       "      <td>1898.007675</td>\n",
       "    </tr>\n",
       "    <tr>\n",
       "      <th>25%</th>\n",
       "      <td>NaN</td>\n",
       "      <td>NaN</td>\n",
       "      <td>NaN</td>\n",
       "      <td>NaN</td>\n",
       "      <td>NaN</td>\n",
       "      <td>NaN</td>\n",
       "      <td>1.000000</td>\n",
       "      <td>68.000000</td>\n",
       "      <td>266.932542</td>\n",
       "      <td>0.000000</td>\n",
       "      <td>3954.344534</td>\n",
       "    </tr>\n",
       "    <tr>\n",
       "      <th>50%</th>\n",
       "      <td>NaN</td>\n",
       "      <td>NaN</td>\n",
       "      <td>NaN</td>\n",
       "      <td>NaN</td>\n",
       "      <td>NaN</td>\n",
       "      <td>NaN</td>\n",
       "      <td>2.000000</td>\n",
       "      <td>82.000000</td>\n",
       "      <td>379.200000</td>\n",
       "      <td>34322.000000</td>\n",
       "      <td>5800.188903</td>\n",
       "    </tr>\n",
       "    <tr>\n",
       "      <th>75%</th>\n",
       "      <td>NaN</td>\n",
       "      <td>NaN</td>\n",
       "      <td>NaN</td>\n",
       "      <td>NaN</td>\n",
       "      <td>NaN</td>\n",
       "      <td>NaN</td>\n",
       "      <td>4.000000</td>\n",
       "      <td>109.000000</td>\n",
       "      <td>549.986128</td>\n",
       "      <td>62464.000000</td>\n",
       "      <td>9031.214859</td>\n",
       "    </tr>\n",
       "    <tr>\n",
       "      <th>max</th>\n",
       "      <td>NaN</td>\n",
       "      <td>NaN</td>\n",
       "      <td>NaN</td>\n",
       "      <td>NaN</td>\n",
       "      <td>NaN</td>\n",
       "      <td>NaN</td>\n",
       "      <td>9.000000</td>\n",
       "      <td>297.000000</td>\n",
       "      <td>2759.794354</td>\n",
       "      <td>99934.000000</td>\n",
       "      <td>83325.381190</td>\n",
       "    </tr>\n",
       "  </tbody>\n",
       "</table>\n",
       "</div>"
      ],
      "text/plain": [
       "        Vehicle Class Coverage Renew Offer Type EmploymentStatus  \\\n",
       "count            5669     5669             5669             5669   \n",
       "unique              6        3                4                5   \n",
       "top     Four-Door Car    Basic           Offer1         Employed   \n",
       "freq             2858     3477             2292             3541   \n",
       "mean              NaN      NaN              NaN              NaN   \n",
       "std               NaN      NaN              NaN              NaN   \n",
       "min               NaN      NaN              NaN              NaN   \n",
       "25%               NaN      NaN              NaN              NaN   \n",
       "50%               NaN      NaN              NaN              NaN   \n",
       "75%               NaN      NaN              NaN              NaN   \n",
       "max               NaN      NaN              NaN              NaN   \n",
       "\n",
       "       Marital Status Education  Number of Policies  Monthly Premium Auto  \\\n",
       "count            5669      5669         5669.000000           5669.000000   \n",
       "unique              3         5                 NaN                   NaN   \n",
       "top           Married  Bachelor                 NaN                   NaN   \n",
       "freq             3305      1703                 NaN                   NaN   \n",
       "mean              NaN       NaN            2.979361             93.026989   \n",
       "std               NaN       NaN            2.393187             34.551795   \n",
       "min               NaN       NaN            1.000000             61.000000   \n",
       "25%               NaN       NaN            1.000000             68.000000   \n",
       "50%               NaN       NaN            2.000000             82.000000   \n",
       "75%               NaN       NaN            4.000000            109.000000   \n",
       "max               NaN       NaN            9.000000            297.000000   \n",
       "\n",
       "        Total Claim Amount        Income  Customer Lifetime Value  \n",
       "count          5669.000000   5669.000000              5669.000000  \n",
       "unique                 NaN           NaN                      NaN  \n",
       "top                    NaN           NaN                      NaN  \n",
       "freq                   NaN           NaN                      NaN  \n",
       "mean            431.407103  37868.188569              8029.874592  \n",
       "std             287.558038  30490.490723              6916.708246  \n",
       "min               0.423310      0.000000              1898.007675  \n",
       "25%             266.932542      0.000000              3954.344534  \n",
       "50%             379.200000  34322.000000              5800.188903  \n",
       "75%             549.986128  62464.000000              9031.214859  \n",
       "max            2759.794354  99934.000000             83325.381190  "
      ]
     },
     "execution_count": 107,
     "metadata": {},
     "output_type": "execute_result"
    }
   ],
   "source": [
    "# Statistik Deskriptif - include data kategorikal\n",
    "df.describe(include=\"all\")"
   ]
  },
  {
   "cell_type": "markdown",
   "id": "337734bd",
   "metadata": {},
   "source": [
    "**Dari hasil statistik deskriptif, didapatkan bahwa**: \n",
    "- Terdapat gap yang besar pada variabel pendapatan dan CLV \n",
    "- Ditemukan outlier pada CLV dan pendapatan \n",
    "- Ada nasabah berpendapatan $0 yang punya polis\n",
    "- CLV tinggi dimungkinkan berkaitan dengan jumlah polis atau klaim\n",
    "\n",
    "**Transformasi Log akan digunakan pada variabel target atau CLV**, untuk mengatasi:\n",
    "- Distribusi asli yang sangat miring (skewness)\n",
    "- Perbedaan nilai ekstrim (min sebesar $1,898 dan max sebesar $83,325)\n",
    "- memenuhi ketentuan regresi yakni distribusi normal"
   ]
  },
  {
   "cell_type": "markdown",
   "id": "909af828",
   "metadata": {},
   "source": [
    "<h2> 4. Data Cleaning </h2>"
   ]
  },
  {
   "cell_type": "markdown",
   "id": "5f10faa3",
   "metadata": {},
   "source": [
    "<h3> 4.1 Cek Missing Value </h3>"
   ]
  },
  {
   "cell_type": "code",
   "execution_count": 108,
   "id": "2d2edccc",
   "metadata": {},
   "outputs": [
    {
     "data": {
      "application/vnd.microsoft.datawrangler.viewer.v0+json": {
       "columns": [
        {
         "name": "index",
         "rawType": "object",
         "type": "string"
        },
        {
         "name": "0",
         "rawType": "int64",
         "type": "integer"
        }
       ],
       "ref": "2ad1d7f4-ef4d-4da5-afba-98d87d66fced",
       "rows": [
        [
         "Vehicle Class",
         "5669"
        ],
        [
         "Coverage",
         "5669"
        ],
        [
         "Renew Offer Type",
         "5669"
        ],
        [
         "EmploymentStatus",
         "5669"
        ],
        [
         "Marital Status",
         "5669"
        ],
        [
         "Education",
         "5669"
        ],
        [
         "Number of Policies",
         "5669"
        ],
        [
         "Monthly Premium Auto",
         "5669"
        ],
        [
         "Total Claim Amount",
         "5669"
        ],
        [
         "Income",
         "5669"
        ],
        [
         "Customer Lifetime Value",
         "5669"
        ]
       ],
       "shape": {
        "columns": 1,
        "rows": 11
       }
      },
      "text/plain": [
       "Vehicle Class              5669\n",
       "Coverage                   5669\n",
       "Renew Offer Type           5669\n",
       "EmploymentStatus           5669\n",
       "Marital Status             5669\n",
       "Education                  5669\n",
       "Number of Policies         5669\n",
       "Monthly Premium Auto       5669\n",
       "Total Claim Amount         5669\n",
       "Income                     5669\n",
       "Customer Lifetime Value    5669\n",
       "dtype: int64"
      ]
     },
     "execution_count": 108,
     "metadata": {},
     "output_type": "execute_result"
    }
   ],
   "source": [
    "# cek jumlah data \n",
    "df.count()"
   ]
  },
  {
   "cell_type": "code",
   "execution_count": 109,
   "id": "63d98b86",
   "metadata": {},
   "outputs": [
    {
     "name": "stdout",
     "output_type": "stream",
     "text": [
      "Vehicle Class              0\n",
      "Coverage                   0\n",
      "Renew Offer Type           0\n",
      "EmploymentStatus           0\n",
      "Marital Status             0\n",
      "Education                  0\n",
      "Number of Policies         0\n",
      "Monthly Premium Auto       0\n",
      "Total Claim Amount         0\n",
      "Income                     0\n",
      "Customer Lifetime Value    0\n",
      "dtype: int64\n"
     ]
    }
   ],
   "source": [
    "# cek missing value\n",
    "missing_data = df.isnull().sum()\n",
    "print(missing_data)"
   ]
  },
  {
   "cell_type": "markdown",
   "id": "3ec4ea2c",
   "metadata": {},
   "source": [
    "**Interpretasi Missing Value** : Tidak ada missing value"
   ]
  },
  {
   "cell_type": "markdown",
   "id": "f8ed470a",
   "metadata": {},
   "source": [
    "<h3> 4.2 Pencarian Data Duplikat </h3>"
   ]
  },
  {
   "cell_type": "code",
   "execution_count": 110,
   "id": "e70ddfa6",
   "metadata": {},
   "outputs": [
    {
     "name": "stdout",
     "output_type": "stream",
     "text": [
      "\n",
      "Detail duplikat:\n",
      "     Vehicle Class  Coverage Renew Offer Type EmploymentStatus Marital Status  \\\n",
      "0    Four-Door Car     Basic           Offer1         Disabled       Divorced   \n",
      "1    Four-Door Car     Basic           Offer1         Disabled       Divorced   \n",
      "2    Four-Door Car     Basic           Offer1         Disabled       Divorced   \n",
      "3    Four-Door Car     Basic           Offer1         Employed       Divorced   \n",
      "4    Four-Door Car     Basic           Offer1         Employed       Divorced   \n",
      "..             ...       ...              ...              ...            ...   \n",
      "209   Two-Door Car  Extended           Offer2          Retired        Married   \n",
      "210   Two-Door Car   Premium           Offer1         Employed        Married   \n",
      "211   Two-Door Car   Premium           Offer1         Employed        Married   \n",
      "212   Two-Door Car   Premium           Offer1         Employed         Single   \n",
      "213   Two-Door Car   Premium           Offer2         Employed        Married   \n",
      "\n",
      "                Education  Number of Policies  Monthly Premium Auto  \\\n",
      "0                Bachelor                 1.0                  63.0   \n",
      "1                  Master                 2.0                  74.0   \n",
      "2                  Master                 3.0                  65.0   \n",
      "3                Bachelor                 9.0                  69.0   \n",
      "4                  Doctor                 1.0                  62.0   \n",
      "..                    ...                 ...                   ...   \n",
      "209                Master                 2.0                  85.0   \n",
      "210               College                 2.0                 102.0   \n",
      "211                Master                 2.0                 119.0   \n",
      "212              Bachelor                 1.0                 103.0   \n",
      "213  High School or Below                 1.0                 116.0   \n",
      "\n",
      "     Total Claim Amount   Income  Customer Lifetime Value  Count  \n",
      "0            352.394515  19864.0              2359.423599      4  \n",
      "1            523.888845  26057.0              8509.850887      5  \n",
      "2            312.000000  22886.0              5096.673223      5  \n",
      "3            331.200000  67798.0              5548.031892      4  \n",
      "4             67.530904  36631.0              2491.317024      4  \n",
      "..                  ...      ...                      ...    ...  \n",
      "209          574.024018  19614.0             16301.967600      6  \n",
      "210          489.600000  88340.0             12280.766610      4  \n",
      "211          109.906628  60880.0             14435.673650      2  \n",
      "212          494.400000  69379.0              4118.588554      2  \n",
      "213          556.800000  76157.0              4669.226640      5  \n",
      "\n",
      "[214 rows x 12 columns]\n"
     ]
    }
   ],
   "source": [
    "# Cek duplikat penuh (semua kolom)\n",
    "duplicates = df[df.duplicated(keep=False)]  # Tandai semua duplikat\n",
    "duplicate_counts = duplicates.groupby(df.columns.tolist()).size().reset_index(name='Count')\n",
    "\n",
    "print(\"\\nDetail duplikat:\")\n",
    "print(duplicate_counts[duplicate_counts['Count'] > 1])"
   ]
  },
  {
   "cell_type": "code",
   "execution_count": 111,
   "id": "ecf14da6",
   "metadata": {},
   "outputs": [
    {
     "name": "stdout",
     "output_type": "stream",
     "text": [
      "Jumlah baris awal: 5669\n",
      "Jumlah baris setelah penghapusan duplikat: 5051\n",
      "Jumlah baris yang dihapus: 618\n",
      "Total baris duplikat (unik): 214\n",
      "Persentase data dihapus: 10.90%\n"
     ]
    }
   ],
   "source": [
    "# Simpan jumlah baris sebelum penghapusan\n",
    "jumlah_baris_awal = len(df)\n",
    "\n",
    "# Penghapusan duplikat\n",
    "df_clean = df.drop_duplicates(keep='first')\n",
    "\n",
    "# Jumlah baris setelah penghapusan\n",
    "jumlah_baris_setelah = len(df_clean)\n",
    "\n",
    "# Jumlah baris yang dihapus\n",
    "jumlah_dihapus = jumlah_baris_awal - jumlah_baris_setelah\n",
    "\n",
    "# Display hasil\n",
    "print(f\"Jumlah baris awal: {jumlah_baris_awal}\")\n",
    "print(f\"Jumlah baris setelah penghapusan duplikat: {jumlah_baris_setelah}\")\n",
    "print(f\"Jumlah baris yang dihapus: {jumlah_dihapus}\")\n",
    "print(f\"Total baris duplikat (unik): {len(duplicate_counts[duplicate_counts['Count'] > 1])}\")\n",
    "print(f\"Persentase data dihapus: {jumlah_dihapus/jumlah_baris_awal*100:.2f}%\")"
   ]
  },
  {
   "cell_type": "markdown",
   "id": "098f9aea",
   "metadata": {},
   "source": [
    "**Interpretasi**: \n",
    "\n",
    "- Data awal terdiri dari 5.669 baris, sebanyak 618 baris (sekitar 10,90%) teridentifikasi sebagai duplikat dan telah dihapus, sehingga tersisa 5.051 baris data unik. hanya 214 di antaranya yang merupakan kombinasi duplikat yang benar-benar unik. \n",
    "\n",
    "**Notes**: Data duplikat yang dimaksud dalam data ini yakni yang memiliki nilai yang sama persis di seluruh kolom."
   ]
  },
  {
   "cell_type": "code",
   "execution_count": 112,
   "id": "9d0ea17d",
   "metadata": {},
   "outputs": [
    {
     "name": "stdout",
     "output_type": "stream",
     "text": [
      "Kelompok 1: 4 baris → Hapus 3\n",
      "Kelompok 2: 5 baris → Hapus 4\n",
      "Kelompok 3: 5 baris → Hapus 4\n",
      "Kelompok 4: 4 baris → Hapus 3\n",
      "Kelompok 5: 4 baris → Hapus 3\n",
      "Kelompok 6: 5 baris → Hapus 4\n",
      "Kelompok 7: 4 baris → Hapus 3\n",
      "Kelompok 8: 3 baris → Hapus 2\n",
      "Kelompok 9: 3 baris → Hapus 2\n",
      "Kelompok 10: 5 baris → Hapus 4\n",
      "Kelompok 11: 4 baris → Hapus 3\n",
      "Kelompok 12: 4 baris → Hapus 3\n",
      "Kelompok 13: 2 baris → Hapus 1\n",
      "Kelompok 14: 5 baris → Hapus 4\n",
      "Kelompok 15: 4 baris → Hapus 3\n",
      "Kelompok 16: 5 baris → Hapus 4\n",
      "Kelompok 17: 5 baris → Hapus 4\n",
      "Kelompok 18: 5 baris → Hapus 4\n",
      "Kelompok 19: 2 baris → Hapus 1\n",
      "Kelompok 20: 4 baris → Hapus 3\n",
      "Kelompok 21: 5 baris → Hapus 4\n",
      "Kelompok 22: 5 baris → Hapus 4\n",
      "Kelompok 23: 4 baris → Hapus 3\n",
      "Kelompok 24: 3 baris → Hapus 2\n",
      "Kelompok 25: 4 baris → Hapus 3\n",
      "Kelompok 26: 2 baris → Hapus 1\n",
      "Kelompok 27: 2 baris → Hapus 1\n",
      "Kelompok 28: 5 baris → Hapus 4\n",
      "Kelompok 29: 3 baris → Hapus 2\n",
      "Kelompok 30: 5 baris → Hapus 4\n",
      "Kelompok 31: 2 baris → Hapus 1\n",
      "Kelompok 32: 5 baris → Hapus 4\n",
      "Kelompok 33: 3 baris → Hapus 2\n",
      "Kelompok 34: 4 baris → Hapus 3\n",
      "Kelompok 35: 2 baris → Hapus 1\n",
      "Kelompok 36: 5 baris → Hapus 4\n",
      "Kelompok 37: 6 baris → Hapus 5\n",
      "Kelompok 38: 3 baris → Hapus 2\n",
      "Kelompok 39: 4 baris → Hapus 3\n",
      "Kelompok 40: 6 baris → Hapus 5\n",
      "Kelompok 41: 3 baris → Hapus 2\n",
      "Kelompok 42: 4 baris → Hapus 3\n",
      "Kelompok 43: 6 baris → Hapus 5\n",
      "Kelompok 44: 4 baris → Hapus 3\n",
      "Kelompok 45: 4 baris → Hapus 3\n",
      "Kelompok 46: 6 baris → Hapus 5\n",
      "Kelompok 47: 2 baris → Hapus 1\n",
      "Kelompok 48: 4 baris → Hapus 3\n",
      "Kelompok 49: 2 baris → Hapus 1\n",
      "Kelompok 50: 6 baris → Hapus 5\n",
      "Kelompok 51: 4 baris → Hapus 3\n",
      "Kelompok 52: 3 baris → Hapus 2\n",
      "Kelompok 53: 5 baris → Hapus 4\n",
      "Kelompok 54: 5 baris → Hapus 4\n",
      "Kelompok 55: 3 baris → Hapus 2\n",
      "Kelompok 56: 4 baris → Hapus 3\n",
      "Kelompok 57: 2 baris → Hapus 1\n",
      "Kelompok 58: 4 baris → Hapus 3\n",
      "Kelompok 59: 3 baris → Hapus 2\n",
      "Kelompok 60: 4 baris → Hapus 3\n",
      "Kelompok 61: 4 baris → Hapus 3\n",
      "Kelompok 62: 5 baris → Hapus 4\n",
      "Kelompok 63: 6 baris → Hapus 5\n",
      "Kelompok 64: 2 baris → Hapus 1\n",
      "Kelompok 65: 5 baris → Hapus 4\n",
      "Kelompok 66: 4 baris → Hapus 3\n",
      "Kelompok 67: 4 baris → Hapus 3\n",
      "Kelompok 68: 4 baris → Hapus 3\n",
      "Kelompok 69: 6 baris → Hapus 5\n",
      "Kelompok 70: 2 baris → Hapus 1\n",
      "Kelompok 71: 3 baris → Hapus 2\n",
      "Kelompok 72: 4 baris → Hapus 3\n",
      "Kelompok 73: 3 baris → Hapus 2\n",
      "Kelompok 74: 3 baris → Hapus 2\n",
      "Kelompok 75: 2 baris → Hapus 1\n",
      "Kelompok 76: 5 baris → Hapus 4\n",
      "Kelompok 77: 4 baris → Hapus 3\n",
      "Kelompok 78: 3 baris → Hapus 2\n",
      "Kelompok 79: 3 baris → Hapus 2\n",
      "Kelompok 80: 3 baris → Hapus 2\n",
      "Kelompok 81: 5 baris → Hapus 4\n",
      "Kelompok 82: 4 baris → Hapus 3\n",
      "Kelompok 83: 5 baris → Hapus 4\n",
      "Kelompok 84: 4 baris → Hapus 3\n",
      "Kelompok 85: 2 baris → Hapus 1\n",
      "Kelompok 86: 4 baris → Hapus 3\n",
      "Kelompok 87: 5 baris → Hapus 4\n",
      "Kelompok 88: 5 baris → Hapus 4\n",
      "Kelompok 89: 2 baris → Hapus 1\n",
      "Kelompok 90: 3 baris → Hapus 2\n",
      "Kelompok 91: 4 baris → Hapus 3\n",
      "Kelompok 92: 3 baris → Hapus 2\n",
      "Kelompok 93: 5 baris → Hapus 4\n",
      "Kelompok 94: 2 baris → Hapus 1\n",
      "Kelompok 95: 4 baris → Hapus 3\n",
      "Kelompok 96: 3 baris → Hapus 2\n",
      "Kelompok 97: 4 baris → Hapus 3\n",
      "Kelompok 98: 5 baris → Hapus 4\n",
      "Kelompok 99: 4 baris → Hapus 3\n",
      "Kelompok 100: 3 baris → Hapus 2\n",
      "Kelompok 101: 5 baris → Hapus 4\n",
      "Kelompok 102: 5 baris → Hapus 4\n",
      "Kelompok 103: 3 baris → Hapus 2\n",
      "Kelompok 104: 5 baris → Hapus 4\n",
      "Kelompok 105: 4 baris → Hapus 3\n",
      "Kelompok 106: 2 baris → Hapus 1\n",
      "Kelompok 107: 3 baris → Hapus 2\n",
      "Kelompok 108: 5 baris → Hapus 4\n",
      "Kelompok 109: 5 baris → Hapus 4\n",
      "Kelompok 110: 3 baris → Hapus 2\n",
      "Kelompok 111: 2 baris → Hapus 1\n",
      "Kelompok 112: 3 baris → Hapus 2\n",
      "Kelompok 113: 2 baris → Hapus 1\n",
      "Kelompok 114: 4 baris → Hapus 3\n",
      "Kelompok 115: 2 baris → Hapus 1\n",
      "Kelompok 116: 3 baris → Hapus 2\n",
      "Kelompok 117: 4 baris → Hapus 3\n",
      "Kelompok 118: 5 baris → Hapus 4\n",
      "Kelompok 119: 4 baris → Hapus 3\n",
      "Kelompok 120: 4 baris → Hapus 3\n",
      "Kelompok 121: 5 baris → Hapus 4\n",
      "Kelompok 122: 5 baris → Hapus 4\n",
      "Kelompok 123: 4 baris → Hapus 3\n",
      "Kelompok 124: 3 baris → Hapus 2\n",
      "Kelompok 125: 2 baris → Hapus 1\n",
      "Kelompok 126: 5 baris → Hapus 4\n",
      "Kelompok 127: 3 baris → Hapus 2\n",
      "Kelompok 128: 4 baris → Hapus 3\n",
      "Kelompok 129: 2 baris → Hapus 1\n",
      "Kelompok 130: 4 baris → Hapus 3\n",
      "Kelompok 131: 4 baris → Hapus 3\n",
      "Kelompok 132: 4 baris → Hapus 3\n",
      "Kelompok 133: 2 baris → Hapus 1\n",
      "Kelompok 134: 5 baris → Hapus 4\n",
      "Kelompok 135: 5 baris → Hapus 4\n",
      "Kelompok 136: 5 baris → Hapus 4\n",
      "Kelompok 137: 4 baris → Hapus 3\n",
      "Kelompok 138: 5 baris → Hapus 4\n",
      "Kelompok 139: 2 baris → Hapus 1\n",
      "Kelompok 140: 5 baris → Hapus 4\n",
      "Kelompok 141: 5 baris → Hapus 4\n",
      "Kelompok 142: 2 baris → Hapus 1\n",
      "Kelompok 143: 4 baris → Hapus 3\n",
      "Kelompok 144: 3 baris → Hapus 2\n",
      "Kelompok 145: 4 baris → Hapus 3\n",
      "Kelompok 146: 4 baris → Hapus 3\n",
      "Kelompok 147: 5 baris → Hapus 4\n",
      "Kelompok 148: 4 baris → Hapus 3\n",
      "Kelompok 149: 4 baris → Hapus 3\n",
      "Kelompok 150: 6 baris → Hapus 5\n",
      "Kelompok 151: 4 baris → Hapus 3\n",
      "Kelompok 152: 4 baris → Hapus 3\n",
      "Kelompok 153: 5 baris → Hapus 4\n",
      "Kelompok 154: 4 baris → Hapus 3\n",
      "Kelompok 155: 3 baris → Hapus 2\n",
      "Kelompok 156: 5 baris → Hapus 4\n",
      "Kelompok 157: 4 baris → Hapus 3\n",
      "Kelompok 158: 3 baris → Hapus 2\n",
      "Kelompok 159: 2 baris → Hapus 1\n",
      "Kelompok 160: 4 baris → Hapus 3\n",
      "Kelompok 161: 5 baris → Hapus 4\n",
      "Kelompok 162: 3 baris → Hapus 2\n",
      "Kelompok 163: 5 baris → Hapus 4\n",
      "Kelompok 164: 4 baris → Hapus 3\n",
      "Kelompok 165: 4 baris → Hapus 3\n",
      "Kelompok 166: 5 baris → Hapus 4\n",
      "Kelompok 167: 4 baris → Hapus 3\n",
      "Kelompok 168: 4 baris → Hapus 3\n",
      "Kelompok 169: 3 baris → Hapus 2\n",
      "Kelompok 170: 5 baris → Hapus 4\n",
      "Kelompok 171: 4 baris → Hapus 3\n",
      "Kelompok 172: 3 baris → Hapus 2\n",
      "Kelompok 173: 4 baris → Hapus 3\n",
      "Kelompok 174: 2 baris → Hapus 1\n",
      "Kelompok 175: 5 baris → Hapus 4\n",
      "Kelompok 176: 4 baris → Hapus 3\n",
      "Kelompok 177: 4 baris → Hapus 3\n",
      "Kelompok 178: 5 baris → Hapus 4\n",
      "Kelompok 179: 5 baris → Hapus 4\n",
      "Kelompok 180: 4 baris → Hapus 3\n",
      "Kelompok 181: 2 baris → Hapus 1\n",
      "Kelompok 182: 4 baris → Hapus 3\n",
      "Kelompok 183: 4 baris → Hapus 3\n",
      "Kelompok 184: 5 baris → Hapus 4\n",
      "Kelompok 185: 4 baris → Hapus 3\n",
      "Kelompok 186: 2 baris → Hapus 1\n",
      "Kelompok 187: 3 baris → Hapus 2\n",
      "Kelompok 188: 4 baris → Hapus 3\n",
      "Kelompok 189: 3 baris → Hapus 2\n",
      "Kelompok 190: 5 baris → Hapus 4\n",
      "Kelompok 191: 4 baris → Hapus 3\n",
      "Kelompok 192: 5 baris → Hapus 4\n",
      "Kelompok 193: 4 baris → Hapus 3\n",
      "Kelompok 194: 5 baris → Hapus 4\n",
      "Kelompok 195: 4 baris → Hapus 3\n",
      "Kelompok 196: 4 baris → Hapus 3\n",
      "Kelompok 197: 3 baris → Hapus 2\n",
      "Kelompok 198: 3 baris → Hapus 2\n",
      "Kelompok 199: 5 baris → Hapus 4\n",
      "Kelompok 200: 4 baris → Hapus 3\n",
      "Kelompok 201: 4 baris → Hapus 3\n",
      "Kelompok 202: 3 baris → Hapus 2\n",
      "Kelompok 203: 4 baris → Hapus 3\n",
      "Kelompok 204: 4 baris → Hapus 3\n",
      "Kelompok 205: 4 baris → Hapus 3\n",
      "Kelompok 206: 5 baris → Hapus 4\n",
      "Kelompok 207: 6 baris → Hapus 5\n",
      "Kelompok 208: 3 baris → Hapus 2\n",
      "Kelompok 209: 2 baris → Hapus 1\n",
      "Kelompok 210: 6 baris → Hapus 5\n",
      "Kelompok 211: 4 baris → Hapus 3\n",
      "Kelompok 212: 2 baris → Hapus 1\n",
      "Kelompok 213: 2 baris → Hapus 1\n",
      "Kelompok 214: 5 baris → Hapus 4\n"
     ]
    }
   ],
   "source": [
    "# Baris yang dihapus per kelompok\n",
    "dihapus_per_kelompok = []\n",
    "\n",
    "for i, row in duplicate_counts.iterrows():\n",
    "    if row['Count'] > 1:\n",
    "        dihapus = row['Count'] - 1\n",
    "        dihapus_per_kelompok.append(dihapus)\n",
    "        print(f\"Kelompok {i+1}: {row['Count']} baris → Hapus {dihapus}\")"
   ]
  },
  {
   "cell_type": "markdown",
   "id": "d8eb9c1c",
   "metadata": {},
   "source": [
    "<h2> 5. Exploratory Data Analysis </h2>"
   ]
  },
  {
   "cell_type": "markdown",
   "id": "82fe9fdd",
   "metadata": {},
   "source": [
    "<h3> 5.1 Visualisasi Distribusi CLV Original dan Versi Log  </h3>"
   ]
  },
  {
   "cell_type": "code",
   "execution_count": 113,
   "id": "665ab58a",
   "metadata": {},
   "outputs": [
    {
     "data": {
      "image/png": "[encoded data removed]",
      "text/plain": [
       "<Figure size 1000x600 with 1 Axes>"
      ]
     },
     "metadata": {},
     "output_type": "display_data"
    }
   ],
   "source": [
    "# Analisis Distribusi CLV Original \n",
    "plt.figure(figsize=(10,6))\n",
    "sns.histplot(df_clean['Customer Lifetime Value'], bins=50, kde=True)\n",
    "plt.title('Distribusi Customer Lifetime Value (Original)')\n",
    "plt.show()"
   ]
  },
  {
   "cell_type": "markdown",
   "id": "b4f7591e",
   "metadata": {},
   "source": [
    "**Interpretasi Distribusi CLV original**:\n",
    "- Distribusi sangat skewed ke kanan (right-skewed), terlihat dari ekor distribusi yang memanjang ke arah nilai CLV tinggi.\n",
    "- Mayoritas data terkonsentrasi pada rentang $0–$20.000, dengan puncak (modus) berada di sekitar $4.000–$6.000.\n",
    "\n",
    "**Masalah Statistik:**\n",
    "- Terdapat outlier ekstrem, yaitu nilai-nilai CLV yang melebihi $60.000, bahkan mencapai sekitar $83.000.\n",
    "- Terjadi ketimpangan besar antara nilai min dan max.\n",
    "- Distribusi yang tidak normal, yang tidak memenuhi asumsi model regresi linear tradisional."
   ]
  },
  {
   "cell_type": "code",
   "execution_count": 114,
   "id": "e35cf823",
   "metadata": {},
   "outputs": [
    {
     "name": "stderr",
     "output_type": "stream",
     "text": [
      "C:\\Users\\Lenovo\\AppData\\Local\\Temp\\ipykernel_15208\\1424196994.py:2: SettingWithCopyWarning: \n",
      "A value is trying to be set on a copy of a slice from a DataFrame.\n",
      "Try using .loc[row_indexer,col_indexer] = value instead\n",
      "\n",
      "See the caveats in the documentation: https://pandas.pydata.org/pandas-docs/stable/user_guide/indexing.html#returning-a-view-versus-a-copy\n",
      "  df_clean['CLV_log'] = np.log1p(df_clean['Customer Lifetime Value'])\n"
     ]
    },
    {
     "data": {
      "image/png": "[encoded data removed]",
      "text/plain": [
       "<Figure size 1000x600 with 1 Axes>"
      ]
     },
     "metadata": {},
     "output_type": "display_data"
    }
   ],
   "source": [
    "# Transformasi log \n",
    "df_clean['CLV_log'] = np.log1p(df_clean['Customer Lifetime Value'])\n",
    "\n",
    "# Analisis Distribusi CLV Log\n",
    "plt.figure(figsize=(10,6))\n",
    "sns.histplot(df_clean['CLV_log'], bins=50, kde=True)\n",
    "plt.title('Distribusi CLV setelah Transformasi Log')\n",
    "plt.show()"
   ]
  },
  {
   "cell_type": "markdown",
   "id": "c29ae96f",
   "metadata": {},
   "source": [
    "**Interpretasi Distribusi Data CLV Log**: \n",
    "\n",
    "**Transformasi ini membantu mengurangi pengaruh outlier dan ketimpangan yang sebelumnya sangat terlihat pada data CLV original.**\n",
    "- Setelah transformasi log, distribusi CLV lebih mendekati distribusi normal, meskipun masih sedikit right-skewed.\n",
    "- Varians menjadi stabil dan sebaran data menjadi lebih homogen, dimana cocok untuk regresi.\n",
    "- Mayoritas nilai CLV log terkonsentrasi di 8.0 hingga 9.2, dengan peak berada di kisaran 8.5–8.8."
   ]
  },
  {
   "cell_type": "markdown",
   "id": "24ac5005",
   "metadata": {},
   "source": [
    "<h3> 5.2 Visualisasi Analisis Outlier </h3>"
   ]
  },
  {
   "cell_type": "code",
   "execution_count": 115,
   "id": "23628758",
   "metadata": {},
   "outputs": [
    {
     "data": {
      "image/png": "[encoded data removed]",
      "text/plain": [
       "<Figure size 1000x600 with 1 Axes>"
      ]
     },
     "metadata": {},
     "output_type": "display_data"
    }
   ],
   "source": [
    "plt.figure(figsize=(10,6))\n",
    "sns.boxplot(x=df_clean['CLV_log'])\n",
    "plt.title('Boxplot CLV (Log Scale)')\n",
    "plt.show()"
   ]
  },
  {
   "cell_type": "markdown",
   "id": "fa66f494",
   "metadata": {},
   "source": [
    "**Interpretasi Boxplot**: \n",
    "- Distribusi CLV (log) masih tidak sepenuhnya simetris, dengan adanya positive skewness, ditandai oleh banyaknya outlier di sisi kanan (nilai tinggi).\n",
    "- Median berada condong ke kiri, menunjukkan bahwa data cenderung terkonsentrasi pada nilai yang lebih rendah.\n",
    "- Terlihat banyak outlier di rentang sekitar 10.5 hingga 11.5.\n",
    "- Meskipun transformasi log berhasil mengurangi ketimpangan ekstrim, beberapa nilai tinggi tetap dianggap outlier secara statistik."
   ]
  },
  {
   "cell_type": "markdown",
   "id": "1cc80837",
   "metadata": {},
   "source": [
    "<h3> 5.3 Korelasi & Analisis Multivariat </h3>"
   ]
  },
  {
   "cell_type": "code",
   "execution_count": 116,
   "id": "82146200",
   "metadata": {},
   "outputs": [
    {
     "data": {
      "image/png": "[encoded data removed]",
      "text/plain": [
       "<Figure size 1200x800 with 2 Axes>"
      ]
     },
     "metadata": {},
     "output_type": "display_data"
    }
   ],
   "source": [
    "plt.figure(figsize=(12,8))\n",
    "sns.heatmap(df_clean.corr(numeric_only=True), annot=True, cmap='coolwarm')\n",
    "plt.title('Korelasi Numerik')\n",
    "plt.show()"
   ]
  },
  {
   "cell_type": "markdown",
   "id": "5ae1cf73",
   "metadata": {},
   "source": [
    "**Interpretasi Korelasi**: \n",
    "\n",
    "**1. Premi dan Klaim Berkaitan Erat**:\n",
    "Korelasi positif moderat (0.63) antara Monthly Premium Auto dan Total Claim Amount menunjukkan bahwa perusahaan mungkin menyesuaikan premi berdasarkan riwayat klaim pelanggan.\n",
    "\n",
    "**2. Nilai Pelanggan Dipengaruhi Premi**:\n",
    "Monthly Premium Auto berkorelasi positif dengan CLV dan CLV_log (0.42 dan 0.46). Artinya, pelanggan yang membayar premi tinggi cenderung lebih menguntungkan dalam jangka panjang.\n",
    "\n",
    "**3. Pengaruh Pendapatan**:\n",
    "Pelanggan berpenghasilan tinggi (Income) cenderung memiliki klaim lebih kecil (-0.36), tetapi tidak memengaruhi kepemilikan polis.\n",
    "\n",
    "**4. Transformasi Logaritmik CLV Valid**:\n",
    "Korelasi sangat tinggi antara CLV dan CLV_log (0.89) membuktikan bahwa transformasi logaritmik tidak mengubah pola hubungan antar variabel—hanya membuat distribusi data lebih stabil."
   ]
  },
  {
   "cell_type": "markdown",
   "id": "f8e8c87f",
   "metadata": {},
   "source": [
    "<h3> 5.4 Skewness </h3>"
   ]
  },
  {
   "cell_type": "code",
   "execution_count": 117,
   "id": "81f81cfc",
   "metadata": {},
   "outputs": [
    {
     "name": "stdout",
     "output_type": "stream",
     "text": [
      "Skewness CLV sebelum transformasi:\n",
      "3.1140158566597465\n",
      "\n",
      "Skewness CLV setelah transformasi:\n",
      "0.5679706530915477\n"
     ]
    }
   ],
   "source": [
    "# Define Dataframe yang sudah dibersihkan menjadi df\n",
    "df = df_clean.copy()\n",
    "\n",
    "# Kolom target (Customer Lifetime Value)\n",
    "target_col = 'Customer Lifetime Value'\n",
    "\n",
    "# Cek skewness sebelum transformasi\n",
    "print(\"Skewness CLV sebelum transformasi:\")\n",
    "print(df[target_col].skew())\n",
    "\n",
    "# Transformasi log pada CLV saja\n",
    "df[target_col] = np.log1p(df[target_col])\n",
    "\n",
    "# Cek skewness setelah transformasi\n",
    "print(\"\\nSkewness CLV setelah transformasi:\")\n",
    "print(df[target_col].skew())"
   ]
  },
  {
   "cell_type": "markdown",
   "id": "b3de66c6",
   "metadata": {},
   "source": [
    "**Interpretasi Skewness Setelah dan Sebelum Transformasi**:\n",
    "\n",
    "- Sebelum transformasi menunjukkan distribusi nilai CLV sangat menceng ke kanan (right-skewed), terdapat outlier dan nilai ekstrim.\n",
    "\n",
    "- Setelah transformasi log membuat distribusi menjadi jauh lebih simetris.Skewness < 0.5–0.6 mendekati normal untuk keperluan modeling, yang menandakan transformasi berhasil mengurangi ketimpangan distribusi."
   ]
  },
  {
   "cell_type": "markdown",
   "id": "3b44ac7f",
   "metadata": {},
   "source": [
    "<h2> 6. Data dan Pemodelan Regresi </h2>\n",
    "\n",
    "**Pemilihan Keputusan: Setelah mengeksplorasi CLV original dan log, menunjukkan bahwa transformasi log perlu diterapkan pada variabel target (CLV) agar mendapatkan hasil yang lebih stabil.**     \n",
    "\n",
    "**Notes**: df_clean sudah di define sebagai df pada bagian skewness"
   ]
  },
  {
   "cell_type": "code",
   "execution_count": 118,
   "id": "bf77ab8e",
   "metadata": {},
   "outputs": [],
   "source": [
    "# Target CLV_log (log-transform)\n",
    "df['CLV_log'] = np.log1p(df['Customer Lifetime Value']) # melakukan transformasi log pada variabel target atau CLV\n",
    "\n",
    "# Pisahkan fitur dan target \n",
    "X = df.drop(columns=['Customer Lifetime Value', 'CLV_log'])\n",
    "y = df['CLV_log'] # ini variabel targetnya\n",
    "\n",
    "# Pembagian data menjadi train dan test\n",
    "X_train, X_test, y_train, y_test = train_test_split(X, y, test_size=0.2, random_state=1042)\n",
    "\n",
    "# Encoding variabel kategorikal\n",
    "categorical_cols = X.select_dtypes(include=['object']).columns\n",
    "numeric_cols = X.select_dtypes(include=['int64', 'float64']).columns\n",
    "\n",
    "preprocessor = ColumnTransformer(\n",
    "    transformers=[\n",
    "        ('num', StandardScaler(), numeric_cols),\n",
    "        ('cat', OneHotEncoder(handle_unknown='ignore', drop='first'), categorical_cols)\n",
    "    ])"
   ]
  },
  {
   "cell_type": "markdown",
   "id": "6a665bc2",
   "metadata": {},
   "source": [
    "<h2> 7. Evaluasi Model </h2>"
   ]
  },
  {
   "cell_type": "code",
   "execution_count": null,
   "id": "cad4bc11",
   "metadata": {},
   "outputs": [
    {
     "name": "stdout",
     "output_type": "stream",
     "text": [
      "\n",
      "Hasil Evaluasi Model:\n",
      "                        MAE       MSE      RMSE        R2\n",
      "Linear Regression  0.043097  0.003093  0.055618  0.278853\n",
      "Random Forest      0.010142  0.000445  0.021099  0.896216\n",
      "Gradient Boosting  0.010310  0.000387  0.019680  0.909713\n"
     ]
    }
   ],
   "source": [
    "# Model untuk evaluasi\n",
    "models = {\n",
    "    'Linear Regression': LinearRegression(),\n",
    "    'Random Forest': RandomForestRegressor(random_state=2042, n_jobs=-1),\n",
    "    'Gradient Boosting': GradientBoostingRegressor(random_state=2042)\n",
    "    \n",
    "}\n",
    "\n",
    "# Evaluasi model\n",
    "results = {}\n",
    "for name, model in models.items():\n",
    "    # Buat pipeline untuk setiap model\n",
    "    model_pipeline = Pipeline([\n",
    "        ('preprocessor', preprocessor),\n",
    "        ('regressor', model)\n",
    "    ])\n",
    "    \n",
    "    model_pipeline.fit(X_train, y_train)\n",
    "    y_pred = model_pipeline.predict(X_test)\n",
    "    \n",
    "    # Hitung metrik evaluasi\n",
    "    mae = mean_absolute_error(y_test, y_pred)\n",
    "    mse = mean_squared_error(y_test, y_pred)\n",
    "    rmse = np.sqrt(mse)\n",
    "    r2 = r2_score(y_test, y_pred)\n",
    "    \n",
    "    results[name] = {'MAE': mae, 'MSE': mse, 'RMSE': rmse, 'R2': r2}\n",
    "    \n",
    "# Tampilkan hasil evaluasi\n",
    "results_df = pd.DataFrame(results).T\n",
    "print(\"\\nHasil Evaluasi Model:\")\n",
    "print(results_df)"
   ]
  },
  {
   "cell_type": "code",
   "execution_count": 120,
   "id": "8a2ebca0",
   "metadata": {},
   "outputs": [
    {
     "data": {
      "text/plain": [
       "<Figure size 1200x600 with 0 Axes>"
      ]
     },
     "metadata": {},
     "output_type": "display_data"
    },
    {
     "data": {
      "image/png": "[encoded data removed]",
      "text/plain": [
       "<Figure size 640x480 with 1 Axes>"
      ]
     },
     "metadata": {},
     "output_type": "display_data"
    }
   ],
   "source": [
    "# Visualisasi hasil evaluasi\n",
    "plt.figure(figsize=(12, 6))\n",
    "results_df[['MAE', 'RMSE']].plot(kind='bar', rot=0)\n",
    "plt.title('Perbandingan MAE dan RMSE Model')\n",
    "plt.ylabel('Nilai')\n",
    "plt.show()"
   ]
  },
  {
   "cell_type": "markdown",
   "id": "49fa080e",
   "metadata": {},
   "source": [
    "**Interpretasi Evaluasi Model**: \n",
    "- Linear Regression kurang cocok digunakkan pada dataset ini karena MAE dan RMSE yang lebih tinggi serta nilai R² yang rendah (0.28). Dimana, menunjukkan bahwa model kurang mampu menjelaskan variasi data target. \n",
    "- Random Forest dan Gradient Boosting menunjukkan performa yang jauh lebih baik, dengan nilai MAE dan RMSE yang lebih rendah serta R² yang tinggi dengan nilai 0.89 dan 0.90.\n",
    "- Gradient Boosting memberikan hasil terbaik secara keseluruhan yang paling akurat dalam memprediksi CLV, dengan MAE yang kecil sebesar 0.103, RMSE yang kecil sebesar 0.200, dan R² tertinggi dengan nilai 0.90."
   ]
  },
  {
   "cell_type": "markdown",
   "id": "00a3659a",
   "metadata": {},
   "source": [
    "<h2> 8. Cross-Validation </h2>"
   ]
  },
  {
   "cell_type": "code",
   "execution_count": 121,
   "id": "f6b50fb1",
   "metadata": {},
   "outputs": [
    {
     "name": "stdout",
     "output_type": "stream",
     "text": [
      "\n",
      "Hasil Cross-Validation:\n",
      "                   Mean RMSE  Std RMSE\n",
      "Linear Regression   0.056981  0.000721\n",
      "Random Forest       0.020350  0.000416\n",
      "Gradient Boosting   0.019655  0.000226\n"
     ]
    }
   ],
   "source": [
    "# Cross-validation untuk evaluasi lebih robust\n",
    "cv_results = {}\n",
    "for name, model in models.items():\n",
    "    model_pipeline = Pipeline([\n",
    "        ('preprocessor', preprocessor),\n",
    "        ('regressor', model)\n",
    "    ])\n",
    "    \n",
    "    # Gunakan neg_mean_squared_error untuk cross validation\n",
    "    mse_scores = -cross_val_score(\n",
    "        model_pipeline, X_train, y_train,\n",
    "        cv=5, scoring='neg_mean_squared_error'\n",
    "    )\n",
    "    rmse_scores = np.sqrt(mse_scores)\n",
    "    \n",
    "    cv_results[name] = {\n",
    "        'Mean RMSE': rmse_scores.mean(),\n",
    "        'Std RMSE': rmse_scores.std()\n",
    "    }\n",
    "print(\"\\nHasil Cross-Validation:\")\n",
    "cv_df = pd.DataFrame(cv_results).T\n",
    "print(cv_df)"
   ]
  },
  {
   "cell_type": "code",
   "execution_count": 122,
   "id": "b9b26f30",
   "metadata": {},
   "outputs": [
    {
     "data": {
      "image/png": "[encoded data removed]",
      "text/plain": [
       "<Figure size 1000x500 with 1 Axes>"
      ]
     },
     "metadata": {},
     "output_type": "display_data"
    }
   ],
   "source": [
    "# Visualisasi hasil cross-validation\n",
    "plt.figure(figsize=(10, 5))\n",
    "cv_df['Mean RMSE'].plot(kind='bar', yerr=cv_df['Std RMSE'], capsize=5)\n",
    "plt.title('RMSE Cross-Validation (5-fold)')\n",
    "plt.ylabel('RMSE')\n",
    "plt.show()"
   ]
  },
  {
   "cell_type": "markdown",
   "id": "936da249",
   "metadata": {},
   "source": [
    "**Interpretasi Cross-Validation**:\n",
    "\n",
    "- Gradient Boosting memberikan performa terbaik, dengan RMSE terendah sebesar 0.0197 dan variasi antar fold paling kecil (Std RMSE: 0.0002). Hal ini menunjukkan bahwa model ini paling akurat dan konsisten dalam melakukan prediksi log(CLV).\n",
    "- Random Forest juga menunjukkan performa yang sangat baik, dengan RMSE sebesar 0.0204 dan variasi antar fold yang masih rendah (Std RMSE: 0.0004), sedikit di atas Gradient Boosting.\n",
    "- Linear Regression memiliki performa paling rendah, dengan RMSE tertinggi sebesar 0.0570 dan variasi antar fold lebih besar (Std RMSE: 0.0007). Ini menandakan bahwa model linear kurang cocok digunakan untuk dataset ini karena tidak mampu menangkap pola kompleks yang ada."
   ]
  },
  {
   "cell_type": "markdown",
   "id": "7bf2cab3",
   "metadata": {},
   "source": [
    "<h2> 9. Hyperparameter Tuning </h2>"
   ]
  },
  {
   "cell_type": "code",
   "execution_count": 123,
   "id": "87dfcf67",
   "metadata": {},
   "outputs": [
    {
     "name": "stdout",
     "output_type": "stream",
     "text": [
      "Memulai proses GridSearchCV. Proses load butuh waktu...\n",
      "Fitting 3 folds for each of 108 candidates, totalling 324 fits\n",
      "\n",
      "Best Parameters: {'regressor__max_depth': 10, 'regressor__min_samples_leaf': 4, 'regressor__min_samples_split': 2, 'regressor__n_estimators': 100}\n",
      "Best R2 Score (on training data with cross-validation): 0.90\n",
      "Mean Absolute Error (MAE) with Tuned Model on Test Set: 0.01\n",
      "Mean Squared Error (MSE) with Tuned Model on Test Set: 0.00\n",
      "Root Mean Squared Error (RMSE) with Tuned Model on Test Set: 0.02\n",
      "R2 Score with Tuned Model on Test Set: 0.88\n"
     ]
    }
   ],
   "source": [
    "param_grid = {\n",
    "    'regressor__n_estimators': [100, 200, 300], # Menambahkan 300\n",
    "    'regressor__max_depth': [None, 10, 20, 30], # Menambahkan 30\n",
    "    'regressor__min_samples_split': [2, 5, 10], # Menambahkan 10\n",
    "    'regressor__min_samples_leaf': [1, 2, 4]    # Menambahkan min_samples_leaf\n",
    "}\n",
    "\n",
    "# Inisialisasi GridSearchCV dengan pipeline\n",
    "grid_search = GridSearchCV(\n",
    "    estimator=model_pipeline,\n",
    "    param_grid=param_grid,\n",
    "    cv=3,\n",
    "    n_jobs=-1,\n",
    "    scoring='r2',\n",
    "    verbose=1\n",
    ")\n",
    "\n",
    "# verbose=1 akan menampilkan progres\n",
    "print(\"Memulai proses GridSearchCV. Proses load butuh waktu...\")\n",
    "grid_search.fit(X_train, y_train)\n",
    "\n",
    "# Display Best Parameter\n",
    "print(f\"\\nBest Parameters: {grid_search.best_params_}\")\n",
    "print(f\"Best R2 Score (on training data with cross-validation): {grid_search.best_score_:.2f}\")\n",
    "\n",
    "# Model terbaik dari GridSearch\n",
    "best_rf_model = grid_search.best_estimator_\n",
    "\n",
    "# Prediksi pada Test Set menggunakan model terbaik\n",
    "y_pred_tuned = best_rf_model.predict(X_test)\n",
    "\n",
    "# Evaluasi model terbaik pada Test Set\n",
    "r2_tuned = r2_score(y_test, y_pred_tuned)\n",
    "mae_tuned = mean_absolute_error(y_test, y_pred_tuned)\n",
    "mse_tuned = mean_squared_error(y_test, y_pred_tuned)\n",
    "rmse_tuned = np.sqrt(mse_tuned)\n",
    "\n",
    "print(f\"Mean Absolute Error (MAE) with Tuned Model on Test Set: {mae_tuned:.2f}\")\n",
    "print(f\"Mean Squared Error (MSE) with Tuned Model on Test Set: {mse_tuned:.2f}\")\n",
    "print(f\"Root Mean Squared Error (RMSE) with Tuned Model on Test Set: {rmse_tuned:.2f}\")\n",
    "print(f\"R2 Score with Tuned Model on Test Set: {r2_tuned:.2f}\")"
   ]
  },
  {
   "cell_type": "markdown",
   "id": "cb06ebaf",
   "metadata": {},
   "source": [
    "**Interpretasi Tuning**: \n",
    "\n",
    "Gradient Boosting masih menjadi model terbaik, bahkan setelah Random Forest dituning. Ditunjukkan dari R2 Gradient Boosting nya yang lebih besar."
   ]
  },
  {
   "cell_type": "markdown",
   "id": "2b2663d6",
   "metadata": {},
   "source": [
    "<h2> 10. Feature Importance </h2>"
   ]
  },
  {
   "cell_type": "code",
   "execution_count": 124,
   "id": "7d6db70d",
   "metadata": {},
   "outputs": [
    {
     "data": {
      "image/png": "[encoded data removed]",
      "text/plain": [
       "<Figure size 1000x600 with 1 Axes>"
      ]
     },
     "metadata": {},
     "output_type": "display_data"
    }
   ],
   "source": [
    "# Model dan preprocessing pipeline\n",
    "rf_model = best_rf_model.named_steps['regressor']\n",
    "preprocessor = best_rf_model.named_steps['preprocessor']\n",
    "\n",
    "# Ambil nama fitur numerik dan kategorikal\n",
    "num_features = preprocessor.transformers_[0][2]  # kolom numerik\n",
    "\n",
    "# Untuk OneHotEncoder (langsung, bukan pipeline)\n",
    "cat_encoder = preprocessor.transformers_[1][1]\n",
    "cat_columns = preprocessor.transformers_[1][2]\n",
    "cat_features = cat_encoder.get_feature_names_out(cat_columns)\n",
    "\n",
    "# Gabungkan nama fitur akhir\n",
    "all_feature_names = (\n",
    "    [f\"num__{feat}\" for feat in num_features] +\n",
    "    [f\"cat__{feat}\" for feat in cat_features]\n",
    ")\n",
    "\n",
    "# Define feature importances\n",
    "importances = rf_model.feature_importances_\n",
    "\n",
    "# Dataframe dan visualisasikan\n",
    "feat_imp_df = pd.DataFrame({\n",
    "    'Feature': all_feature_names,\n",
    "    'Importance': importances\n",
    "}).sort_values(by='Importance', ascending=False)\n",
    "\n",
    "plt.figure(figsize=(10,6))\n",
    "sns.barplot(data=feat_imp_df.head(10), x='Importance', y='Feature')\n",
    "plt.title('Top 10 Feature Importances')\n",
    "plt.xlabel('Importance Score')\n",
    "plt.tight_layout()\n",
    "plt.show()"
   ]
  },
  {
   "cell_type": "markdown",
   "id": "0c4abc77",
   "metadata": {},
   "source": [
    "**Interpretasi Feature Importance**:\n",
    "\n",
    "**Notes**: Meskipun model terbaik adalah Gradient Boosting, analisis feature importance menggunakan model Random Forest hasil tuning karena model memberikan interpretasi fitur yang lebih stabil.\n",
    "\n",
    "- Model sangat bergantung pada fitur numerik operasional, dimana pengaruh terbesar dari Number of Policies dan Monthly Premium Auto. **Dalam artian semakin banyak polis yang dimiliki pelanggan dan pembayaran bulanan yang diberikan, semakin besar potensi nilai yang di hasilkan bagi perusahaan dalam jangka panjang**.\n",
    "- Fitur kategorikal memiliki kontribusi minimal terhadap prediksi."
   ]
  },
  {
   "cell_type": "markdown",
   "id": "4ff2503b",
   "metadata": {},
   "source": [
    "<h2> 11. Cek Data Leakage </h2>"
   ]
  },
  {
   "cell_type": "markdown",
   "id": "ada18c87",
   "metadata": {},
   "source": [
    "<h3> 11.1 Partial Dependence Plot (PDP) </h3>"
   ]
  },
  {
   "cell_type": "code",
   "execution_count": 125,
   "id": "ac358d7e",
   "metadata": {},
   "outputs": [
    {
     "data": {
      "image/png": "[encoded data removed]",
      "text/plain": [
       "<Figure size 640x480 with 2 Axes>"
      ]
     },
     "metadata": {},
     "output_type": "display_data"
    }
   ],
   "source": [
    "feature_to_plot = 'Number of Policies'  # Nama kolom asli di data mentah\n",
    "\n",
    "PartialDependenceDisplay.from_estimator(\n",
    "    best_rf_model, \n",
    "    X_train,  # Data training asli (DataFrame dengan kolom original)\n",
    "    features=[feature_to_plot],\n",
    "    feature_names=X_train.columns.tolist(),  # Nama kolom asli\n",
    "    grid_resolution=20\n",
    ")\n",
    "\n",
    "plt.title(f'PDP for {feature_to_plot}')\n",
    "plt.show()"
   ]
  },
  {
   "cell_type": "markdown",
   "id": "30002468",
   "metadata": {},
   "source": [
    "**Interpretasi PDP**: **Terkonfirmasi bahwa tidak ada data leakage**\n",
    "\n",
    "nilai partial dependence meningkat tajam dari 1 ke 2 policy, menunjukkan bahwa pelanggan dengan 2 polis memiliki pengaruh positif yang besar terhadap target. Namun setelah itu, pengaruhnya menurun dan menjadi stabil mulai dari 3 polis ke atas. Pola ini menunjukkan bahwa model tidak terlalu sensitif terhadap nilai yang lebih tinggi dan tidak ada fluktuasi yang anomali. Oleh karena itu, tidak ditemukan indikasi data leakage."
   ]
  },
  {
   "cell_type": "markdown",
   "id": "7fb40ae5",
   "metadata": {},
   "source": [
    "<h3> 11.2 Cross-Validation Stability </h3>"
   ]
  },
  {
   "cell_type": "code",
   "execution_count": 126,
   "id": "967389f6",
   "metadata": {},
   "outputs": [
    {
     "name": "stdout",
     "output_type": "stream",
     "text": [
      "\n",
      "Cross-Validation Stability\n",
      "Skor per fold: ['-0.0004', '-0.0005', '-0.0004', '-0.0005', '-0.0005']\n",
      "Rata-rata: -0.0005\n",
      "Standar Deviasi: 0.0000\n"
     ]
    }
   ],
   "source": [
    "scoring_metric = 'neg_mean_squared_error'  \n",
    "\n",
    "cv_scores = cross_val_score(\n",
    "    best_rf_model,\n",
    "    X_train, \n",
    "    y_train,\n",
    "    cv=5,\n",
    "    scoring=scoring_metric\n",
    ")\n",
    "\n",
    "print(\"\\nCross-Validation Stability\")\n",
    "print(f\"Skor per fold: {[f'{s:.4f}' for s in cv_scores]}\")\n",
    "print(f\"Rata-rata: {np.mean(cv_scores):.4f}\")\n",
    "print(f\"Standar Deviasi: {np.std(cv_scores):.4f}\")"
   ]
  },
  {
   "cell_type": "markdown",
   "id": "04f6bf1e",
   "metadata": {},
   "source": [
    "**Interpretasi Cross-Validation Stability**\n",
    "\n",
    "Model menunjukkan performa yang sangat stabil dan konsisten, dengan rata-rata kesalahan (MSE) sebesar 0.0005 dan deviasi antar fold yang sangat kecil (mendekati 0.0000). Hal ini mengindikasikan bahwa model tidak sensitif terhadap pembagian data dalam cross-validation dan memiliki kemampuan generalisasi yang sangat baik terhadap data baru."
   ]
  },
  {
   "cell_type": "markdown",
   "id": "7c25416a",
   "metadata": {},
   "source": [
    "<h2> 12. Finalisasi Model dan Evaluasi Akhir (Gradient Boosting) </h2>"
   ]
  },
  {
   "cell_type": "code",
   "execution_count": 127,
   "id": "8841f859",
   "metadata": {},
   "outputs": [
    {
     "name": "stdout",
     "output_type": "stream",
     "text": [
      "Model Final: Gradient Boosting\n",
      "R2 Score: 0.910\n",
      "RMSE: 0.020\n",
      "MAE: 0.010\n"
     ]
    }
   ],
   "source": [
    "# Pipeline final dengan Gradient Boosting\n",
    "final_model = Pipeline([\n",
    "    ('preprocessor', preprocessor),\n",
    "    ('regressor', GradientBoostingRegressor(random_state=2042))\n",
    "])\n",
    "\n",
    "# Fit ulang dengan seluruh data training\n",
    "final_model.fit(X_train, y_train)\n",
    "\n",
    "# Simpan model\n",
    "with open('gradient_boosting_model.pkl', 'wb') as file:\n",
    "    pickle.dump(final_model, file)\n",
    "\n",
    "# Evaluasi akhir\n",
    "y_pred_final = final_model.predict(X_test)\n",
    "r2_final = r2_score(y_test, y_pred_final)\n",
    "rmse_final = root_mean_squared_error(y_test, y_pred_final)\n",
    "mae_final = mean_absolute_error(y_test, y_pred_final)\n",
    "\n",
    "print(\"Model Final: Gradient Boosting\")\n",
    "print(f\"R2 Score: {r2_final:.3f}\")\n",
    "print(f\"RMSE: {rmse_final:.3f}\")\n",
    "print(f\"MAE: {mae_final:.3f}\")"
   ]
  },
  {
   "cell_type": "markdown",
   "id": "b178ce88",
   "metadata": {},
   "source": [
    "**Interpretasi Final dengan Model Gradient Boosting**: \n",
    "Model dapat menjelaskan 91% variasi pada Customer Lifetime Value, dengan rata-rata kesalahan prediksi yang sangat kecil."
   ]
  },
  {
   "cell_type": "code",
   "execution_count": 128,
   "id": "3bde92ec",
   "metadata": {},
   "outputs": [
    {
     "name": "stdout",
     "output_type": "stream",
     "text": [
      "Train R2 Score: 0.925\n",
      "Test R2 Score: 0.910\n",
      "Selisih: 0.015\n"
     ]
    }
   ],
   "source": [
    "# Evaluasi Train & Test\n",
    "y_train_pred = final_model.predict(X_train)\n",
    "r2_train = r2_score(y_train, y_train_pred)\n",
    "y_test_pred = final_model.predict(X_test)\n",
    "r2_test = r2_score(y_test, y_test_pred)\n",
    "\n",
    "print(f\"Train R2 Score: {r2_train:.3f}\")\n",
    "print(f\"Test R2 Score: {r2_test:.3f}\")\n",
    "print(f\"Selisih: {abs(r2_train - r2_test):.3f}\")"
   ]
  },
  {
   "cell_type": "markdown",
   "id": "f021a47a",
   "metadata": {},
   "source": [
    "**Interpretasi Evaluasi Train & Test**: Evaluasi Train dan Test R² secara eksplisit hanya dilakukan pada model Gradient Boosting karena model ini menunjukkan performa terbaik dan paling stabil. Selisih R² antara data train (0.925) dan data test (0.910) hanya 0.015, menandakan model memiliki generalisasi yang sangat baik dan tidak overfitting.\n"
   ]
  },
  {
   "cell_type": "markdown",
   "id": "fc50c785",
   "metadata": {},
   "source": [
    "<h2> Kesimpulan dan Rekomendasi </h2>"
   ]
  },
  {
   "cell_type": "markdown",
   "id": "052ae4cf",
   "metadata": {},
   "source": [
    "**Kesimpulan**:\n",
    "- Model terbaik berdasarkan RMSE dan R² adalah **Gradient Boosting Regressor**. \n",
    "- Model ini menunjukkan akurasi prediksi yang tinggi dan performa generalisasi yang baik pada data test.\n",
    "- Dengan performa yang bagus, dengan seluruh pengecekan menunjukkan tidak ada data leakage atau overfitting.\n",
    "- Namun, untuk interpretasi fitur menggunakan **Random Forest** karena lebih transparan dan stabil.\n",
    "\n",
    "**Rekomendasi**:\n",
    "- Model ini dapat digunakan untuk membantu tim pemasaran dan retensi dalam mengidentifikasi pelanggan dengan nilai CLV tinggi.\n",
    "- Lakukan pelatihan ulang model secara berkala untuk mengikuti perubahan data pelanggan.\n",
    "- Untuk segmen pelanggan bernilai sangat tinggi, akurasi masih bisa ditingkatkan dengan eksplorasi fitur tambahan.\n",
    "\n",
    "**Limitasi Model**:\n",
    "- Model bekerja optimal pada pola data yang serupa dengan data historis.\n",
    "- Model tidak mempertimbangkan variabel waktu atau perubahan musiman (non-time series).\n",
    "- Fitur yang digunakan terbatas pada data demografis dan transaksi dasar."
   ]
  },
  {
   "cell_type": "markdown",
   "id": "b35882ea",
   "metadata": {},
   "source": [
    "<h2> Insight Bisnis </h2>\n",
    "\n",
    "- Pelanggan dengan jumlah polis lebih banyak dan premi bulanan lebih tinggi cenderung memiliki nilai CLV yang tinggi. Ini membuka peluang untuk strategi upselling ke pelanggan yang saat ini hanya memiliki 1 produk.\n",
    "\n",
    "- Karena faktor demografis tidak terlalu berpengaruh, pendekatan personalisasi sebaiknya difokuskan pada riwayat produk dan transaksi, bukan semata pada usia, status menikah, atau pendidikan.\n",
    "\n",
    "- Pelanggan dengan CLV tinggi bisa menjadi target utama program loyalitas dan retensi, sementara pelanggan dengan nilai rendah tapi potensi tinggi (misalnya premi rendah tapi stabil) bisa disasar untuk cross-selling.\n"
   ]
  }
 ],
 "metadata": {
  "kernelspec": {
   "display_name": "Python 3",
   "language": "python",
   "name": "python3"
  },
  "language_info": {
   "codemirror_mode": {
    "name": "ipython",
    "version": 3
   },
   "file_extension": ".py",
   "mimetype": "text/x-python",
   "name": "python",
   "nbconvert_exporter": "python",
   "pygments_lexer": "ipython3",
   "version": "3.13.5"
  }
 },
 "nbformat": 4,
 "nbformat_minor": 5
}
